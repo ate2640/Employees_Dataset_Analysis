{
 "cells": [
  {
   "cell_type": "markdown",
   "id": "a88cd5e3",
   "metadata": {},
   "source": [
    "### First and foremost, upload the dataset:"
   ]
  },
  {
   "cell_type": "code",
   "execution_count": 1,
   "id": "1f63b12e",
   "metadata": {},
   "outputs": [],
   "source": [
    "import pandas as pd"
   ]
  },
  {
   "cell_type": "code",
   "execution_count": 2,
   "id": "6e82de1a",
   "metadata": {},
   "outputs": [],
   "source": [
    "employees_dataset = pd.read_csv('Employees.csv')"
   ]
  },
  {
   "cell_type": "code",
   "execution_count": 3,
   "id": "5d421b5c",
   "metadata": {},
   "outputs": [
    {
     "data": {
      "text/html": [
       "<div>\n",
       "<style scoped>\n",
       "    .dataframe tbody tr th:only-of-type {\n",
       "        vertical-align: middle;\n",
       "    }\n",
       "\n",
       "    .dataframe tbody tr th {\n",
       "        vertical-align: top;\n",
       "    }\n",
       "\n",
       "    .dataframe thead th {\n",
       "        text-align: right;\n",
       "    }\n",
       "</style>\n",
       "<table border=\"1\" class=\"dataframe\">\n",
       "  <thead>\n",
       "    <tr style=\"text-align: right;\">\n",
       "      <th></th>\n",
       "      <th>EMPLOYEE_ID</th>\n",
       "      <th>EMPLOYEE_ACCESS</th>\n",
       "      <th>Name</th>\n",
       "      <th>ACCESS</th>\n",
       "      <th>EMAIL</th>\n",
       "      <th>Employee Gender</th>\n",
       "      <th>Employee Dept</th>\n",
       "      <th>Employee Business Unit</th>\n",
       "      <th>Employee Job Title</th>\n",
       "      <th>EMPLOYEE_REGION</th>\n",
       "      <th>...</th>\n",
       "      <th>PERF_RATING</th>\n",
       "      <th>Employee Ethnicity</th>\n",
       "      <th>DOB</th>\n",
       "      <th>HIRE_DATE</th>\n",
       "      <th>DP Date</th>\n",
       "      <th>Employee Active Flag</th>\n",
       "      <th>RECRUIT</th>\n",
       "      <th>SALARY</th>\n",
       "      <th>TOTALCOMP</th>\n",
       "      <th>OMITGROUP</th>\n",
       "    </tr>\n",
       "  </thead>\n",
       "  <tbody>\n",
       "    <tr>\n",
       "      <th>0</th>\n",
       "      <td>1</td>\n",
       "      <td>*</td>\n",
       "      <td>Sidney McRoberts</td>\n",
       "      <td>USER</td>\n",
       "      <td>Sidney.Roberts@bnna.com</td>\n",
       "      <td>Male</td>\n",
       "      <td>Management</td>\n",
       "      <td>C-level</td>\n",
       "      <td>Chief Executive Officer</td>\n",
       "      <td>AMERICAS</td>\n",
       "      <td>...</td>\n",
       "      <td>A</td>\n",
       "      <td>Black or African American</td>\n",
       "      <td>17058</td>\n",
       "      <td>30207</td>\n",
       "      <td>41895</td>\n",
       "      <td>Y</td>\n",
       "      <td>Recruiter</td>\n",
       "      <td>351663</td>\n",
       "      <td>56396</td>\n",
       "      <td>Management</td>\n",
       "    </tr>\n",
       "    <tr>\n",
       "      <th>1</th>\n",
       "      <td>2</td>\n",
       "      <td>*</td>\n",
       "      <td>Aidan Torres</td>\n",
       "      <td>USER</td>\n",
       "      <td>Aidan.Torres@bnna.com</td>\n",
       "      <td>Male</td>\n",
       "      <td>Management</td>\n",
       "      <td>C-level</td>\n",
       "      <td>Chief Financial Officer</td>\n",
       "      <td>AMERICAS</td>\n",
       "      <td>...</td>\n",
       "      <td>A</td>\n",
       "      <td>Asian</td>\n",
       "      <td>21420</td>\n",
       "      <td>36030</td>\n",
       "      <td>41874</td>\n",
       "      <td>Y</td>\n",
       "      <td>Internal</td>\n",
       "      <td>446014</td>\n",
       "      <td>414633</td>\n",
       "      <td>Management</td>\n",
       "    </tr>\n",
       "    <tr>\n",
       "      <th>2</th>\n",
       "      <td>3</td>\n",
       "      <td>*</td>\n",
       "      <td>Ivan Anuschek</td>\n",
       "      <td>USER</td>\n",
       "      <td>Ivan.schek@bnna.com</td>\n",
       "      <td>Male</td>\n",
       "      <td>Management</td>\n",
       "      <td>C-level</td>\n",
       "      <td>Chief Operating Officer</td>\n",
       "      <td>AMERICAS</td>\n",
       "      <td>...</td>\n",
       "      <td>A</td>\n",
       "      <td>White</td>\n",
       "      <td>21867</td>\n",
       "      <td>37573</td>\n",
       "      <td>41956</td>\n",
       "      <td>Y</td>\n",
       "      <td>Acquisition</td>\n",
       "      <td>259785</td>\n",
       "      <td>80790</td>\n",
       "      <td>Management</td>\n",
       "    </tr>\n",
       "    <tr>\n",
       "      <th>3</th>\n",
       "      <td>4</td>\n",
       "      <td>*</td>\n",
       "      <td>Alice Morin</td>\n",
       "      <td>USER</td>\n",
       "      <td>Alice. Morin@bnna.com</td>\n",
       "      <td>Female</td>\n",
       "      <td>Management</td>\n",
       "      <td>C-level</td>\n",
       "      <td>Chief Information Officer</td>\n",
       "      <td>AMERICAS</td>\n",
       "      <td>...</td>\n",
       "      <td>A</td>\n",
       "      <td>White</td>\n",
       "      <td>23185</td>\n",
       "      <td>35604</td>\n",
       "      <td>41813</td>\n",
       "      <td>Y</td>\n",
       "      <td>Recruiter</td>\n",
       "      <td>215408</td>\n",
       "      <td>66380</td>\n",
       "      <td>Management</td>\n",
       "    </tr>\n",
       "    <tr>\n",
       "      <th>4</th>\n",
       "      <td>5</td>\n",
       "      <td>*</td>\n",
       "      <td>Stan Gardiner</td>\n",
       "      <td>USER</td>\n",
       "      <td>Stan.diner@bnna.com</td>\n",
       "      <td>Male</td>\n",
       "      <td>Management</td>\n",
       "      <td>C-level</td>\n",
       "      <td>SVP, Sales</td>\n",
       "      <td>AMERICAS</td>\n",
       "      <td>...</td>\n",
       "      <td>A</td>\n",
       "      <td>White</td>\n",
       "      <td>21971</td>\n",
       "      <td>32198</td>\n",
       "      <td>41695</td>\n",
       "      <td>Y</td>\n",
       "      <td>Internal</td>\n",
       "      <td>419500</td>\n",
       "      <td>70192</td>\n",
       "      <td>Management</td>\n",
       "    </tr>\n",
       "  </tbody>\n",
       "</table>\n",
       "<p>5 rows × 27 columns</p>\n",
       "</div>"
      ],
      "text/plain": [
       "   EMPLOYEE_ID EMPLOYEE_ACCESS              Name ACCESS  \\\n",
       "0            1               *  Sidney McRoberts   USER   \n",
       "1            2               *      Aidan Torres   USER   \n",
       "2            3               *     Ivan Anuschek   USER   \n",
       "3            4               *       Alice Morin   USER   \n",
       "4            5               *     Stan Gardiner   USER   \n",
       "\n",
       "                     EMAIL Employee Gender Employee Dept  \\\n",
       "0  Sidney.Roberts@bnna.com            Male    Management   \n",
       "1    Aidan.Torres@bnna.com            Male    Management   \n",
       "2      Ivan.schek@bnna.com            Male    Management   \n",
       "3    Alice. Morin@bnna.com          Female    Management   \n",
       "4      Stan.diner@bnna.com            Male    Management   \n",
       "\n",
       "  Employee Business Unit         Employee Job Title EMPLOYEE_REGION  ...  \\\n",
       "0                C-level    Chief Executive Officer        AMERICAS  ...   \n",
       "1                C-level    Chief Financial Officer        AMERICAS  ...   \n",
       "2                C-level    Chief Operating Officer        AMERICAS  ...   \n",
       "3                C-level  Chief Information Officer        AMERICAS  ...   \n",
       "4                C-level                 SVP, Sales        AMERICAS  ...   \n",
       "\n",
       "  PERF_RATING         Employee Ethnicity    DOB HIRE_DATE DP Date  \\\n",
       "0           A  Black or African American  17058     30207   41895   \n",
       "1           A                      Asian  21420     36030   41874   \n",
       "2           A                      White  21867     37573   41956   \n",
       "3           A                      White  23185     35604   41813   \n",
       "4           A                      White  21971     32198   41695   \n",
       "\n",
       "  Employee Active Flag      RECRUIT  SALARY TOTALCOMP   OMITGROUP  \n",
       "0                    Y    Recruiter  351663     56396  Management  \n",
       "1                    Y     Internal  446014    414633  Management  \n",
       "2                    Y  Acquisition  259785     80790  Management  \n",
       "3                    Y    Recruiter  215408     66380  Management  \n",
       "4                    Y     Internal  419500     70192  Management  \n",
       "\n",
       "[5 rows x 27 columns]"
      ]
     },
     "execution_count": 3,
     "metadata": {},
     "output_type": "execute_result"
    }
   ],
   "source": [
    "employees_dataset.head()"
   ]
  },
  {
   "cell_type": "markdown",
   "id": "dd21323e",
   "metadata": {},
   "source": [
    "#### After successfully uploading the dataset, I use a .info() to view essential properties from this dataset"
   ]
  },
  {
   "cell_type": "code",
   "execution_count": 4,
   "id": "91966feb",
   "metadata": {},
   "outputs": [
    {
     "name": "stdout",
     "output_type": "stream",
     "text": [
      "<class 'pandas.core.frame.DataFrame'>\n",
      "RangeIndex: 1818 entries, 0 to 1817\n",
      "Data columns (total 27 columns):\n",
      " #   Column                    Non-Null Count  Dtype \n",
      "---  ------                    --------------  ----- \n",
      " 0   EMPLOYEE_ID               1818 non-null   int64 \n",
      " 1   EMPLOYEE_ACCESS           1818 non-null   object\n",
      " 2   Name                      1818 non-null   object\n",
      " 3   ACCESS                    1818 non-null   object\n",
      " 4   EMAIL                     1818 non-null   object\n",
      " 5   Employee Gender           1818 non-null   object\n",
      " 6   Employee Dept             1818 non-null   object\n",
      " 7   Employee Business Unit    1789 non-null   object\n",
      " 8   Employee Job Title        1818 non-null   object\n",
      " 9   EMPLOYEE_REGION           1818 non-null   object\n",
      " 10  Employee Country          1818 non-null   object\n",
      " 11  Employee State            1680 non-null   object\n",
      " 12  Employee City             1818 non-null   object\n",
      " 13  Employee Job Class        1818 non-null   object\n",
      " 14  Employee Manager          1818 non-null   object\n",
      " 15  Employee Employment Type  1818 non-null   object\n",
      " 16  BAND                      1818 non-null   int64 \n",
      " 17  PERF_RATING               1818 non-null   object\n",
      " 18  Employee Ethnicity        1818 non-null   object\n",
      " 19  DOB                       1818 non-null   int64 \n",
      " 20  HIRE_DATE                 1818 non-null   int64 \n",
      " 21  DP Date                   1818 non-null   int64 \n",
      " 22  Employee Active Flag      1818 non-null   object\n",
      " 23  RECRUIT                   1818 non-null   object\n",
      " 24  SALARY                    1818 non-null   int64 \n",
      " 25  TOTALCOMP                 1818 non-null   int64 \n",
      " 26  OMITGROUP                 1818 non-null   object\n",
      "dtypes: int64(7), object(20)\n",
      "memory usage: 383.6+ KB\n"
     ]
    }
   ],
   "source": [
    "employees_dataset.info()"
   ]
  },
  {
   "cell_type": "markdown",
   "id": "1d7606ef",
   "metadata": {},
   "source": [
    "### As this is the Employee dataset, let's see the breakdown of Employees by location and frequency: "
   ]
  },
  {
   "cell_type": "code",
   "execution_count": 31,
   "id": "1933fc62",
   "metadata": {},
   "outputs": [
    {
     "name": "stdout",
     "output_type": "stream",
     "text": [
      "Employees come from the following countries:\n",
      "USA\n",
      "UK\n",
      "Australia\n",
      "France\n",
      "Japan\n",
      "Canada\n",
      "Germany\n",
      "Finland\n",
      "Italy\n",
      "Brazil\n",
      "Columbia\n",
      "Chile\n",
      "Argentina\n",
      "Ireland\n",
      "Poland\n",
      "India\n",
      "China\n",
      "Thailand\n",
      "Mexico\n"
     ]
    }
   ],
   "source": [
    "print(\"Employees come from the following countries:\")\n",
    "for i in employees_dataset['Employee Country'].unique():\n",
    "    print(i)"
   ]
  },
  {
   "cell_type": "code",
   "execution_count": 33,
   "id": "35454c50",
   "metadata": {},
   "outputs": [
    {
     "name": "stdout",
     "output_type": "stream",
     "text": [
      "Employees come from 75 countries. They are:\n",
      "New York\n",
      "London\n",
      "Sydney\n",
      "Paris\n",
      "Tokyo\n",
      "San Francisco\n",
      "Toronto\n",
      "Berlin\n",
      "Stockholm\n",
      "Chicago\n",
      "Los Angeles\n",
      "Dallas\n",
      "Boston\n",
      "Atlanta\n",
      "Philadelphia\n",
      "Charlotte\n",
      "Seattle\n",
      "Hamburg\n",
      "Munich\n",
      "Cologne\n",
      "Baltimore\n",
      "Pittsburgh\n",
      "Arlington\n",
      "Hartford\n",
      "Miami\n",
      "Orlando\n",
      "Houston\n",
      "St Louis\n",
      "St Paul\n",
      "Portland\n",
      "Denver\n",
      "Phoenix\n",
      "Las Vegas\n",
      "San Diego\n",
      "Frankfurt\n",
      "Milan\n",
      "Sao Paulo\n",
      "Bogota\n",
      "Santiago\n",
      "Buenos Aires\n",
      "Nottingham\n",
      "Southampton\n",
      "Glasgow\n",
      "Edinburgh\n",
      "Dublin\n",
      "Galway\n",
      "Bordeaux\n",
      "Lyon\n",
      "Verona\n",
      "Campione d'Italia\n",
      "Warsaw\n",
      "Krakow\n",
      "Dortmund\n",
      "Norderney\n",
      "New Delhi\n",
      "Beijing\n",
      "Jiangsu\n",
      "Guangdong\n",
      "Shandong\n",
      "Kyoto\n",
      "Yokohama\n",
      "Nagoya\n",
      "Buffalo\n",
      "Detroit\n",
      "New Orleans\n",
      "San Antonio\n",
      "San Jose\n",
      "Indianapolis\n",
      "Nashville\n",
      "Oklahoma City\n",
      "Cleveland\n",
      "Bangkok\n",
      "Mexico City\n",
      "Vancouver\n",
      "Montreal\n"
     ]
    }
   ],
   "source": [
    "print(\"Employees come from\",employees_dataset['Employee City'].unique().size, \"countries. They are:\")\n",
    "for i in employees_dataset['Employee City'].unique():\n",
    "    print(i)"
   ]
  },
  {
   "cell_type": "code",
   "execution_count": 19,
   "id": "be4b0a65",
   "metadata": {},
   "outputs": [
    {
     "name": "stdout",
     "output_type": "stream",
     "text": [
      "19\n",
      "Employee Country\n",
      "Argentina       3\n",
      "Australia      66\n",
      "Brazil          9\n",
      "Canada         31\n",
      "Chile           8\n",
      "China          28\n",
      "Columbia        9\n",
      "Finland         7\n",
      "France        113\n",
      "Germany       103\n",
      "India           6\n",
      "Ireland        12\n",
      "Italy          20\n",
      "Japan          62\n",
      "Mexico          5\n",
      "Poland         12\n",
      "Thailand        4\n",
      "UK            137\n",
      "USA          1183\n",
      "Name: EMPLOYEE_ID, dtype: int64\n",
      "1818\n"
     ]
    },
    {
     "data": {
      "image/png": "[encoded data removed]",
      "text/plain": [
       "<Figure size 432x288 with 1 Axes>"
      ]
     },
     "metadata": {
      "needs_background": "light"
     },
     "output_type": "display_data"
    }
   ],
   "source": [
    "print(employees_dataset['Employee Country'].unique().size)\n",
    "employees_dataset.groupby('Employee Country')['EMPLOYEE_ID'].count().plot.barh()\n",
    "print(employees_dataset.groupby('Employee Country')['EMPLOYEE_ID'].count())\n",
    "print(employees_dataset['EMPLOYEE_ID'].count())"
   ]
  },
  {
   "cell_type": "code",
   "execution_count": 35,
   "id": "cf2f71ae",
   "metadata": {},
   "outputs": [
    {
     "name": "stdout",
     "output_type": "stream",
     "text": [
      "The USA accounts for 65.07 % of the workforce\n"
     ]
    }
   ],
   "source": [
    "print(\"The USA accounts for\", round(1183*100/1818,2),\"% of the workforce\")"
   ]
  },
  {
   "cell_type": "markdown",
   "id": "ca8d3f8e",
   "metadata": {},
   "source": [
    "#### I then used a .describe() to access the statistics of the salary column:"
   ]
  },
  {
   "cell_type": "code",
   "execution_count": 10,
   "id": "f5686413",
   "metadata": {},
   "outputs": [
    {
     "data": {
      "text/plain": [
       "count      1818.000000\n",
       "mean      51313.432893\n",
       "std       31004.279652\n",
       "min       10444.000000\n",
       "25%       37102.750000\n",
       "50%       46623.500000\n",
       "75%       56349.000000\n",
       "max      446014.000000\n",
       "Name: SALARY, dtype: float64"
      ]
     },
     "execution_count": 10,
     "metadata": {},
     "output_type": "execute_result"
    }
   ],
   "source": [
    "employees_dataset.SALARY.describe()"
   ]
  },
  {
   "cell_type": "code",
   "execution_count": 24,
   "id": "710852e3",
   "metadata": {},
   "outputs": [
    {
     "name": "stdout",
     "output_type": "stream",
     "text": [
      "Employee Job Class\n",
      "Contributor       1553\n",
      "Executive            9\n",
      "Manager            216\n",
      "Senior Manager      40\n",
      "Name: EMPLOYEE_ID, dtype: int64\n",
      "Contributors make up 85.42 % of the employees\n",
      "Executives make up just 0.5 % of the employees\n",
      "Managers make up 11.88 % of the employees\n",
      "Senior Managers make up 2.2 % of the employees\n"
     ]
    },
    {
     "data": {
      "image/png": "[encoded data removed]",
      "text/plain": [
       "<Figure size 432x288 with 1 Axes>"
      ]
     },
     "metadata": {
      "needs_background": "light"
     },
     "output_type": "display_data"
    }
   ],
   "source": [
    "employees_dataset.groupby('Employee Job Class')['EMPLOYEE_ID'].count().plot.barh()\n",
    "print(employees_dataset.groupby('Employee Job Class')['EMPLOYEE_ID'].count())\n",
    "print(\"Contributors make up\", round(1553*100/1818,2),\"% of the employees\")\n",
    "print(\"Executives make up just\", round(9*100/1818,2),\"% of the employees\")\n",
    "print(\"Managers make up\", round(216*100/1818,2),\"% of the employees\")\n",
    "print(\"Senior Managers make up\", round(40*100/1818,2),\"% of the employees\")"
   ]
  },
  {
   "cell_type": "code",
   "execution_count": 27,
   "id": "d9773d12",
   "metadata": {},
   "outputs": [
    {
     "name": "stdout",
     "output_type": "stream",
     "text": [
      "Employee Gender\n",
      "-           80\n",
      "Female     610\n",
      "Male      1128\n",
      "Name: EMPLOYEE_ID, dtype: int64\n",
      "There are nearly twice as many males as there are Females and unlisted combined\n"
     ]
    },
    {
     "data": {
      "image/png": "[encoded data removed]",
      "text/plain": [
       "<Figure size 432x288 with 1 Axes>"
      ]
     },
     "metadata": {
      "needs_background": "light"
     },
     "output_type": "display_data"
    }
   ],
   "source": [
    "employees_dataset.groupby('Employee Gender')['EMPLOYEE_ID'].count().plot.barh()\n",
    "print(employees_dataset.groupby('Employee Gender')['EMPLOYEE_ID'].count())\n",
    "print(\"There are nearly twice as many males as there are Females and unlisted combined\")"
   ]
  },
  {
   "cell_type": "code",
   "execution_count": null,
   "id": "2db98f55",
   "metadata": {},
   "outputs": [],
   "source": []
  }
 ],
 "metadata": {
  "kernelspec": {
   "display_name": "Python 3",
   "language": "python",
   "name": "python3"
  },
  "language_info": {
   "codemirror_mode": {
    "name": "ipython",
    "version": 3
   },
   "file_extension": ".py",
   "mimetype": "text/x-python",
   "name": "python",
   "nbconvert_exporter": "python",
   "pygments_lexer": "ipython3",
   "version": "3.8.8"
  }
 },
 "nbformat": 4,
 "nbformat_minor": 5
}
